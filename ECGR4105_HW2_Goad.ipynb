{
 "cells": [
  {
   "cell_type": "code",
   "execution_count": 1,
   "id": "95266594",
   "metadata": {},
   "outputs": [],
   "source": [
    "# Name: Trevor Goad\n",
    "# Student ID: 801161784\n",
    "# Class: ECGR 4105 \n",
    "# Date: 10/28/2021\n",
    "# Assignment: HW_2\n",
    "# GitHub Link: https://github.com/Wgoad/ECGR4105/blob/main/ECGR4105_HW2_Goad.ipynb"
   ]
  },
  {
   "cell_type": "code",
   "execution_count": 2,
   "id": "e94977c0",
   "metadata": {},
   "outputs": [],
   "source": [
    "import numpy as np \n",
    "import pandas as pd \n",
    "import matplotlib.pyplot as plt"
   ]
  },
  {
   "cell_type": "code",
   "execution_count": 3,
   "id": "4edd97dd",
   "metadata": {},
   "outputs": [
    {
     "data": {
      "text/html": [
       "<div>\n",
       "<style scoped>\n",
       "    .dataframe tbody tr th:only-of-type {\n",
       "        vertical-align: middle;\n",
       "    }\n",
       "\n",
       "    .dataframe tbody tr th {\n",
       "        vertical-align: top;\n",
       "    }\n",
       "\n",
       "    .dataframe thead th {\n",
       "        text-align: right;\n",
       "    }\n",
       "</style>\n",
       "<table border=\"1\" class=\"dataframe\">\n",
       "  <thead>\n",
       "    <tr style=\"text-align: right;\">\n",
       "      <th></th>\n",
       "      <th>Pregnancies</th>\n",
       "      <th>Glucose</th>\n",
       "      <th>BloodPressure</th>\n",
       "      <th>SkinThickness</th>\n",
       "      <th>Insulin</th>\n",
       "      <th>BMI</th>\n",
       "      <th>DiabetesPedigreeFunction</th>\n",
       "      <th>Age</th>\n",
       "      <th>Outcome</th>\n",
       "    </tr>\n",
       "  </thead>\n",
       "  <tbody>\n",
       "    <tr>\n",
       "      <th>0</th>\n",
       "      <td>6</td>\n",
       "      <td>148</td>\n",
       "      <td>72</td>\n",
       "      <td>35</td>\n",
       "      <td>0</td>\n",
       "      <td>33.6</td>\n",
       "      <td>0.627</td>\n",
       "      <td>50</td>\n",
       "      <td>1</td>\n",
       "    </tr>\n",
       "    <tr>\n",
       "      <th>1</th>\n",
       "      <td>1</td>\n",
       "      <td>85</td>\n",
       "      <td>66</td>\n",
       "      <td>29</td>\n",
       "      <td>0</td>\n",
       "      <td>26.6</td>\n",
       "      <td>0.351</td>\n",
       "      <td>31</td>\n",
       "      <td>0</td>\n",
       "    </tr>\n",
       "    <tr>\n",
       "      <th>2</th>\n",
       "      <td>8</td>\n",
       "      <td>183</td>\n",
       "      <td>64</td>\n",
       "      <td>0</td>\n",
       "      <td>0</td>\n",
       "      <td>23.3</td>\n",
       "      <td>0.672</td>\n",
       "      <td>32</td>\n",
       "      <td>1</td>\n",
       "    </tr>\n",
       "    <tr>\n",
       "      <th>3</th>\n",
       "      <td>1</td>\n",
       "      <td>89</td>\n",
       "      <td>66</td>\n",
       "      <td>23</td>\n",
       "      <td>94</td>\n",
       "      <td>28.1</td>\n",
       "      <td>0.167</td>\n",
       "      <td>21</td>\n",
       "      <td>0</td>\n",
       "    </tr>\n",
       "    <tr>\n",
       "      <th>4</th>\n",
       "      <td>0</td>\n",
       "      <td>137</td>\n",
       "      <td>40</td>\n",
       "      <td>35</td>\n",
       "      <td>168</td>\n",
       "      <td>43.1</td>\n",
       "      <td>2.288</td>\n",
       "      <td>33</td>\n",
       "      <td>1</td>\n",
       "    </tr>\n",
       "  </tbody>\n",
       "</table>\n",
       "</div>"
      ],
      "text/plain": [
       "   Pregnancies  Glucose  BloodPressure  SkinThickness  Insulin   BMI  \\\n",
       "0            6      148             72             35        0  33.6   \n",
       "1            1       85             66             29        0  26.6   \n",
       "2            8      183             64              0        0  23.3   \n",
       "3            1       89             66             23       94  28.1   \n",
       "4            0      137             40             35      168  43.1   \n",
       "\n",
       "   DiabetesPedigreeFunction  Age  Outcome  \n",
       "0                     0.627   50        1  \n",
       "1                     0.351   31        0  \n",
       "2                     0.672   32        1  \n",
       "3                     0.167   21        0  \n",
       "4                     2.288   33        1  "
      ]
     },
     "execution_count": 3,
     "metadata": {},
     "output_type": "execute_result"
    }
   ],
   "source": [
    "dataset = pd.read_csv('https://raw.githubusercontent.com/Wgoad/ECGR4105/main/diabetes.csv')\n",
    "dataset.head()"
   ]
  },
  {
   "cell_type": "code",
   "execution_count": 4,
   "id": "a5e086b2",
   "metadata": {},
   "outputs": [],
   "source": [
    "#Problem 1\n",
    "#Read Data\n",
    "X = dataset.iloc[:, [0,1,2,3,4,5,6,7]].values \n",
    "Y = dataset.iloc[:, 8].values"
   ]
  },
  {
   "cell_type": "code",
   "execution_count": 5,
   "id": "190fff17",
   "metadata": {},
   "outputs": [],
   "source": [
    "#Problem 1\n",
    "#Data Split\n",
    "from sklearn.model_selection import train_test_split \n",
    "X_train, X_test, Y_train, Y_test = train_test_split(X, Y, test_size = 0.20, random_state = 13)"
   ]
  },
  {
   "cell_type": "code",
   "execution_count": 6,
   "id": "2a8e06f9",
   "metadata": {},
   "outputs": [],
   "source": [
    "#Problem 1\n",
    "#Data Scaling\n",
    "from sklearn.preprocessing import StandardScaler \n",
    "sc_X = StandardScaler() \n",
    "X_train = sc_X.fit_transform(X_train) \n",
    "X_test = sc_X.transform(X_test)"
   ]
  },
  {
   "cell_type": "code",
   "execution_count": 7,
   "id": "9d7e37e6",
   "metadata": {},
   "outputs": [
    {
     "data": {
      "text/plain": [
       "LogisticRegression(random_state=6)"
      ]
     },
     "execution_count": 7,
     "metadata": {},
     "output_type": "execute_result"
    }
   ],
   "source": [
    "#Problem 1\n",
    "#Logistic Regression\n",
    "from sklearn.linear_model import LogisticRegression \n",
    "classifier = LogisticRegression(random_state=6) \n",
    "classifier.fit(X_train, Y_train)"
   ]
  },
  {
   "cell_type": "code",
   "execution_count": 8,
   "id": "1dfbdcfa",
   "metadata": {},
   "outputs": [
    {
     "data": {
      "text/plain": [
       "array([0, 0, 0, 0, 0, 0, 0, 0, 0, 1], dtype=int64)"
      ]
     },
     "execution_count": 8,
     "metadata": {},
     "output_type": "execute_result"
    }
   ],
   "source": [
    "#Problem 1\n",
    "#Prediction set\n",
    "Y_pred = classifier.predict(X_test) \n",
    "Y_pred[0:10]"
   ]
  },
  {
   "cell_type": "code",
   "execution_count": 9,
   "id": "3a97594a",
   "metadata": {},
   "outputs": [
    {
     "name": "stdout",
     "output_type": "stream",
     "text": [
      "Accuracy: 0.7792207792207793\n",
      "Precision: 0.7804878048780488\n",
      "Recall: 0.5614035087719298\n"
     ]
    }
   ],
   "source": [
    "#Problem 1\n",
    "#Accuracy, Precision, Recall\n",
    "from sklearn import metrics \n",
    "print(\"Accuracy:\",metrics.accuracy_score(Y_test, Y_pred)) \n",
    "print(\"Precision:\",metrics.precision_score(Y_test, Y_pred)) \n",
    "print(\"Recall:\",metrics.recall_score(Y_test, Y_pred))"
   ]
  },
  {
   "cell_type": "code",
   "execution_count": 10,
   "id": "2f135b08",
   "metadata": {},
   "outputs": [
    {
     "data": {
      "text/plain": [
       "array([[88,  9],\n",
       "       [25, 32]], dtype=int64)"
      ]
     },
     "execution_count": 10,
     "metadata": {},
     "output_type": "execute_result"
    }
   ],
   "source": [
    "#Problem 1\n",
    "#Confusion Matrix\n",
    "from sklearn.metrics import confusion_matrix \n",
    "cnf_matrix = confusion_matrix(Y_test, Y_pred) \n",
    "cnf_matrix"
   ]
  },
  {
   "cell_type": "code",
   "execution_count": 11,
   "id": "8eea2278",
   "metadata": {},
   "outputs": [
    {
     "data": {
      "text/plain": [
       "Text(0.5, 257.44, 'Predicted Value')"
      ]
     },
     "execution_count": 11,
     "metadata": {},
     "output_type": "execute_result"
    },
    {
     "data": {
      "image/png": "[encoded data removed]",
      "text/plain": [
       "<Figure size 432x288 with 2 Axes>"
      ]
     },
     "metadata": {
      "needs_background": "light"
     },
     "output_type": "display_data"
    }
   ],
   "source": [
    "#Problem 1\n",
    "#Confusion Matrix Plot\n",
    "import seaborn as sns \n",
    "class_names=[0,1] \n",
    "fig, ax = plt.subplots() \n",
    "tick_marks = np.arange(len(class_names)) \n",
    "plt.xticks(tick_marks, class_names) \n",
    "plt.yticks(tick_marks, class_names) \n",
    "\n",
    "sns.heatmap(pd.DataFrame(cnf_matrix), annot=True, cmap=\"YlGnBu\" ,fmt='g') \n",
    "ax.xaxis.set_label_position(\"top\") \n",
    "plt.tight_layout() \n",
    "plt.title('Problem 1 Confusion matrix', y=1.1) \n",
    "plt.ylabel('Actual Value') \n",
    "plt.xlabel('Predicted Value') "
   ]
  },
  {
   "cell_type": "code",
   "execution_count": 12,
   "id": "45791945",
   "metadata": {},
   "outputs": [],
   "source": [
    "#Problem 2\n",
    "#Read Data\n",
    "X = dataset.iloc[:, [0,1,2,3,4,5,6,7]].values \n",
    "Y = dataset.iloc[:, 8].values"
   ]
  },
  {
   "cell_type": "code",
   "execution_count": 13,
   "id": "863a44a9",
   "metadata": {},
   "outputs": [],
   "source": [
    "#Problem 2\n",
    "#Data Split\n",
    "from sklearn.model_selection import train_test_split \n",
    "X_train, X_test, Y_train, Y_test = train_test_split(X, Y, test_size = 0.20, random_state = 176)"
   ]
  },
  {
   "cell_type": "code",
   "execution_count": 14,
   "id": "8257c72d",
   "metadata": {},
   "outputs": [],
   "source": [
    "#Problem 2\n",
    "#Data Scaling\n",
    "from sklearn.preprocessing import StandardScaler \n",
    "sc_X = StandardScaler() \n",
    "X_train = sc_X.fit_transform(X_train) \n",
    "X_test = sc_X.transform(X_test)"
   ]
  },
  {
   "cell_type": "code",
   "execution_count": 15,
   "id": "c6690e1e",
   "metadata": {},
   "outputs": [
    {
     "data": {
      "text/plain": [
       "GaussianNB()"
      ]
     },
     "execution_count": 15,
     "metadata": {},
     "output_type": "execute_result"
    }
   ],
   "source": [
    "#Problem 2\n",
    "#Naive Bayes Binary Classifier\n",
    "from sklearn.naive_bayes import GaussianNB \n",
    "classifier = GaussianNB() \n",
    "classifier.fit(X_train, Y_train)"
   ]
  },
  {
   "cell_type": "code",
   "execution_count": 16,
   "id": "2685644d",
   "metadata": {},
   "outputs": [
    {
     "data": {
      "text/plain": [
       "array([0, 0, 0, 0, 0, 0, 0, 1, 0, 1], dtype=int64)"
      ]
     },
     "execution_count": 16,
     "metadata": {},
     "output_type": "execute_result"
    }
   ],
   "source": [
    "#Problem 2\n",
    "#Prediction set\n",
    "Y_pred = classifier.predict(X_test) \n",
    "Y_pred[0:10]"
   ]
  },
  {
   "cell_type": "code",
   "execution_count": 17,
   "id": "9414227b",
   "metadata": {},
   "outputs": [
    {
     "name": "stdout",
     "output_type": "stream",
     "text": [
      "Accuracy: 0.7337662337662337\n",
      "Precision: 0.6818181818181818\n",
      "Recall: 0.5263157894736842\n"
     ]
    }
   ],
   "source": [
    "#Problem 2\n",
    "#Accuracy, Precision, Recall\n",
    "from sklearn import metrics \n",
    "print(\"Accuracy:\",metrics.accuracy_score(Y_test, Y_pred)) \n",
    "print(\"Precision:\",metrics.precision_score(Y_test, Y_pred)) \n",
    "print(\"Recall:\",metrics.recall_score(Y_test, Y_pred))"
   ]
  },
  {
   "cell_type": "code",
   "execution_count": 18,
   "id": "efeb5905",
   "metadata": {},
   "outputs": [
    {
     "data": {
      "text/plain": [
       "array([[83, 14],\n",
       "       [27, 30]], dtype=int64)"
      ]
     },
     "execution_count": 18,
     "metadata": {},
     "output_type": "execute_result"
    }
   ],
   "source": [
    "#Problem 2\n",
    "#Confusion Matrix\n",
    "from sklearn.metrics import confusion_matrix \n",
    "cnf_matrix = confusion_matrix(Y_test, Y_pred) \n",
    "cnf_matrix"
   ]
  },
  {
   "cell_type": "code",
   "execution_count": 19,
   "id": "23740dcc",
   "metadata": {},
   "outputs": [
    {
     "data": {
      "text/plain": [
       "Text(0.5, 257.44, 'Predicted Value')"
      ]
     },
     "execution_count": 19,
     "metadata": {},
     "output_type": "execute_result"
    },
    {
     "data": {
      "image/png": "[encoded data removed]",
      "text/plain": [
       "<Figure size 432x288 with 2 Axes>"
      ]
     },
     "metadata": {
      "needs_background": "light"
     },
     "output_type": "display_data"
    }
   ],
   "source": [
    "#Problem 2\n",
    "#Confusion Matrix Plot\n",
    "import seaborn as sns \n",
    "class_names=[0,1] \n",
    "fig, ax = plt.subplots() \n",
    "tick_marks = np.arange(len(class_names)) \n",
    "plt.xticks(tick_marks, class_names) \n",
    "plt.yticks(tick_marks, class_names) \n",
    "\n",
    "sns.heatmap(pd.DataFrame(cnf_matrix), annot=True, cmap=\"YlOrRd\" ,fmt='g') \n",
    "ax.xaxis.set_label_position(\"top\") \n",
    "plt.tight_layout() \n",
    "plt.title('Problem 2 Confusion matrix', y=1.1) \n",
    "plt.ylabel('Actual Value') \n",
    "plt.xlabel('Predicted Value') "
   ]
  },
  {
   "cell_type": "code",
   "execution_count": 20,
   "id": "9a554d1d",
   "metadata": {},
   "outputs": [],
   "source": [
    "#Problem 3\n",
    "#Read Data\n",
    "X = dataset.iloc[:, [0,1,2,3,4,5,6,7]].values \n",
    "Y = dataset.iloc[:, 8].values"
   ]
  },
  {
   "cell_type": "code",
   "execution_count": 21,
   "id": "e0f92fbd",
   "metadata": {},
   "outputs": [],
   "source": [
    "#Problem 3\n",
    "#Data Scaling\n",
    "from sklearn.preprocessing import StandardScaler \n",
    "sc_X = StandardScaler() \n",
    "X = sc_X.fit_transform(X) "
   ]
  },
  {
   "cell_type": "code",
   "execution_count": 22,
   "id": "44c929fb",
   "metadata": {},
   "outputs": [],
   "source": [
    "#Problem 3\n",
    "#Logistic Regression\n",
    "from sklearn.linear_model import LogisticRegression \n",
    "classifier = LogisticRegression(random_state=6) "
   ]
  },
  {
   "cell_type": "code",
   "execution_count": 23,
   "id": "8675219c",
   "metadata": {},
   "outputs": [
    {
     "data": {
      "text/plain": [
       "{'fit_time': array([0.00450397, 0.00450373, 0.00400329, 0.00400281, 0.00400329]),\n",
       " 'score_time': array([0.00200129, 0.00250196, 0.00250173, 0.00200248, 0.00200176]),\n",
       " 'test_accuracy': array([0.77272727, 0.74675325, 0.75324675, 0.81699346, 0.76470588]),\n",
       " 'test_precision': array([0.71111111, 0.64705882, 0.71052632, 0.79069767, 0.71794872]),\n",
       " 'test_recall': array([0.59259259, 0.61111111, 0.5       , 0.64150943, 0.52830189])}"
      ]
     },
     "execution_count": 23,
     "metadata": {},
     "output_type": "execute_result"
    }
   ],
   "source": [
    "#Problem 3\n",
    "#K-fold Cross Validation k = 5\n",
    "from sklearn.model_selection import cross_validate\n",
    "scoring = ['accuracy', 'precision', 'recall']\n",
    "scores = cross_validate(classifier, X, Y, scoring=scoring, cv=5, n_jobs=-1)\n",
    "scores"
   ]
  },
  {
   "cell_type": "code",
   "execution_count": 24,
   "id": "b80e2581",
   "metadata": {},
   "outputs": [
    {
     "data": {
      "text/plain": [
       "{'fit_time': array([0.00500274, 0.00550389, 0.00500488, 0.00650525, 0.00450444,\n",
       "        0.00650573, 0.00500369, 0.0055058 , 0.00600433, 0.00550508]),\n",
       " 'score_time': array([0.00200176, 0.00200152, 0.00350356, 0.00300574, 0.00300288,\n",
       "        0.00350285, 0.00250173, 0.00300121, 0.00250244, 0.00300312]),\n",
       " 'test_accuracy': array([0.72727273, 0.77922078, 0.80519481, 0.71428571, 0.75324675,\n",
       "        0.75324675, 0.80519481, 0.80519481, 0.75      , 0.82894737]),\n",
       " 'test_precision': array([0.61538462, 0.77777778, 0.77272727, 0.6       , 0.75      ,\n",
       "        0.7       , 0.77272727, 0.8       , 0.68421053, 0.84210526]),\n",
       " 'test_recall': array([0.59259259, 0.51851852, 0.62962963, 0.55555556, 0.44444444,\n",
       "        0.51851852, 0.62962963, 0.59259259, 0.5       , 0.61538462])}"
      ]
     },
     "execution_count": 24,
     "metadata": {},
     "output_type": "execute_result"
    }
   ],
   "source": [
    "#Problem 3\n",
    "#K-fold Cross Validation k = 10\n",
    "from sklearn.model_selection import cross_validate\n",
    "scoring = ['accuracy', 'precision', 'recall']\n",
    "scores = cross_validate(classifier, X, Y, scoring=scoring, cv=10, n_jobs=-1)\n",
    "scores"
   ]
  },
  {
   "cell_type": "code",
   "execution_count": 25,
   "id": "82d3b095",
   "metadata": {},
   "outputs": [],
   "source": [
    "#Problem 4\n",
    "#Read Data\n",
    "X = dataset.iloc[:, [0,1,2,3,4,5,6,7]].values \n",
    "Y = dataset.iloc[:, 8].values"
   ]
  },
  {
   "cell_type": "code",
   "execution_count": 26,
   "id": "c8a6308b",
   "metadata": {},
   "outputs": [],
   "source": [
    "#Problem 4\n",
    "#Data Scaling\n",
    "from sklearn.preprocessing import StandardScaler \n",
    "sc_X = StandardScaler() \n",
    "X = sc_X.fit_transform(X) "
   ]
  },
  {
   "cell_type": "code",
   "execution_count": 27,
   "id": "3095896d",
   "metadata": {},
   "outputs": [],
   "source": [
    "#Problem 4\n",
    "#Naive Bayes Binary Classifier\n",
    "from sklearn.naive_bayes import GaussianNB \n",
    "classifier = GaussianNB() "
   ]
  },
  {
   "cell_type": "code",
   "execution_count": 28,
   "id": "9d0c61e3",
   "metadata": {},
   "outputs": [
    {
     "data": {
      "text/plain": [
       "{'fit_time': array([0.00100088, 0.00100064, 0.00100064, 0.00100112, 0.00100112]),\n",
       " 'score_time': array([0.00200152, 0.00200176, 0.00200176, 0.002002  , 0.002002  ]),\n",
       " 'test_accuracy': array([0.75324675, 0.72727273, 0.74675325, 0.78431373, 0.74509804]),\n",
       " 'test_precision': array([0.66666667, 0.625     , 0.65957447, 0.7       , 0.65909091]),\n",
       " 'test_recall': array([0.59259259, 0.55555556, 0.57407407, 0.66037736, 0.54716981])}"
      ]
     },
     "execution_count": 28,
     "metadata": {},
     "output_type": "execute_result"
    }
   ],
   "source": [
    "#Problem 4\n",
    "#K-fold Cross Validation k = 5\n",
    "from sklearn.model_selection import cross_validate\n",
    "scoring = ['accuracy', 'precision', 'recall']\n",
    "scores = cross_validate(classifier, X, Y, scoring=scoring, cv=5, n_jobs=-1)\n",
    "scores"
   ]
  },
  {
   "cell_type": "code",
   "execution_count": 29,
   "id": "f919153e",
   "metadata": {},
   "outputs": [
    {
     "data": {
      "text/plain": [
       "{'fit_time': array([0.00150108, 0.00150204, 0.00150132, 0.00100088, 0.00150061,\n",
       "        0.00150132, 0.00100088, 0.00150061, 0.00100088, 0.00150108]),\n",
       " 'score_time': array([0.00300264, 0.00250149, 0.00300288, 0.00300288, 0.00250292,\n",
       "        0.00300264, 0.00300241, 0.00250292, 0.00350308, 0.00300241]),\n",
       " 'test_accuracy': array([0.72727273, 0.75324675, 0.79220779, 0.71428571, 0.71428571,\n",
       "        0.79220779, 0.76623377, 0.80519481, 0.72368421, 0.77631579]),\n",
       " 'test_precision': array([0.6       , 0.7       , 0.76190476, 0.60869565, 0.6       ,\n",
       "        0.73913043, 0.69565217, 0.71428571, 0.60869565, 0.71428571]),\n",
       " 'test_recall': array([0.66666667, 0.51851852, 0.59259259, 0.51851852, 0.55555556,\n",
       "        0.62962963, 0.59259259, 0.74074074, 0.53846154, 0.57692308])}"
      ]
     },
     "execution_count": 29,
     "metadata": {},
     "output_type": "execute_result"
    }
   ],
   "source": [
    "#Problem 4\n",
    "#K-fold Cross Validation k = 10\n",
    "from sklearn.model_selection import cross_validate\n",
    "scoring = ['accuracy', 'precision', 'recall']\n",
    "scores = cross_validate(classifier, X, Y, scoring=scoring, cv=10, n_jobs=-1)\n",
    "scores"
   ]
  }
 ],
 "metadata": {
  "kernelspec": {
   "display_name": "Python 3",
   "language": "python",
   "name": "python3"
  },
  "language_info": {
   "codemirror_mode": {
    "name": "ipython",
    "version": 3
   },
   "file_extension": ".py",
   "mimetype": "text/x-python",
   "name": "python",
   "nbconvert_exporter": "python",
   "pygments_lexer": "ipython3",
   "version": "3.8.8"
  }
 },
 "nbformat": 4,
 "nbformat_minor": 5
}
