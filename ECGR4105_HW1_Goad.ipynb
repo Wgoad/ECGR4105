{
 "cells": [
  {
   "cell_type": "code",
   "execution_count": 1,
   "id": "1c4fd3b3",
   "metadata": {},
   "outputs": [],
   "source": [
    "# Name: Trevor Goad\n",
    "# Student ID: 801161784\n",
    "# Class: ECGR 4105 \n",
    "# Date: 9/30/2021\n",
    "# Assignment: HW_1\n",
    "# GitHub Link: https://github.com/Wgoad/ECGR4105/blob/main/ECGR4105_HW1_Goad.ipynb"
   ]
  },
  {
   "cell_type": "code",
   "execution_count": 2,
   "id": "b483e0ce",
   "metadata": {},
   "outputs": [],
   "source": [
    "import numpy as np \n",
    "import pandas as pd \n",
    "import matplotlib.pyplot as plt"
   ]
  },
  {
   "cell_type": "code",
   "execution_count": 3,
   "id": "b00e5959",
   "metadata": {},
   "outputs": [
    {
     "data": {
      "text/plain": [
       "545"
      ]
     },
     "execution_count": 3,
     "metadata": {},
     "output_type": "execute_result"
    }
   ],
   "source": [
    "housing = pd.read_csv('https://raw.githubusercontent.com/Wgoad/ECGR4105/main/Housing.csv')\n",
    "housing.head()\n",
    "M=len(housing)\n",
    "M          # test to check if file is read properly"
   ]
  },
  {
   "cell_type": "code",
   "execution_count": 4,
   "id": "c7f3f86b",
   "metadata": {},
   "outputs": [],
   "source": [
    "# function definitions for cost and gradient descent\n",
    "\n",
    "def compute_cost(X,y,theta):\n",
    "    predictions = X.dot(theta) \n",
    "    errors = np.subtract(predictions, y)\n",
    "    sqrErrors = np.square(errors)\n",
    "    J = 1 / (2 * M) * np.sum(sqrErrors)\n",
    "    return J\n",
    "\n",
    "def gradient_descent(X, y, theta, alpha, iterations):\n",
    "    cost_history = np.zeros(iterations)\n",
    "    for i in range(iterations):\n",
    "        predictions = X.dot(theta)\n",
    "        errors = np.subtract(predictions, y)\n",
    "        sum_delta = (alpha / M) * X.transpose().dot(errors);\n",
    "        theta = theta - sum_delta;\n",
    "        cost_history[i] = compute_cost(X, y, theta)\n",
    "        \n",
    "    return theta, cost_history\n",
    "\n",
    "def gradient_descent_regularized(X, y, theta, alpha, iterations, lamb):\n",
    "    cost_history = np.zeros(iterations)\n",
    "    for i in range(iterations):\n",
    "        predictions = X.dot(theta)\n",
    "        errors = np.subtract(predictions, y)\n",
    "        sum_delta = (alpha / M) * X.transpose().dot(errors);\n",
    "        theta = [element * (1 - ((alpha*lamb)/M)) for element in theta] - sum_delta;\n",
    "        cost_history[i] = compute_cost(X, y, theta)\n",
    "        \n",
    "    return theta, cost_history"
   ]
  },
  {
   "cell_type": "code",
   "execution_count": 5,
   "id": "8c025137",
   "metadata": {},
   "outputs": [],
   "source": [
    "#Problem 1a"
   ]
  },
  {
   "cell_type": "code",
   "execution_count": 6,
   "id": "958ece3d",
   "metadata": {},
   "outputs": [
    {
     "data": {
      "text/html": [
       "<div>\n",
       "<style scoped>\n",
       "    .dataframe tbody tr th:only-of-type {\n",
       "        vertical-align: middle;\n",
       "    }\n",
       "\n",
       "    .dataframe tbody tr th {\n",
       "        vertical-align: top;\n",
       "    }\n",
       "\n",
       "    .dataframe thead th {\n",
       "        text-align: right;\n",
       "    }\n",
       "</style>\n",
       "<table border=\"1\" class=\"dataframe\">\n",
       "  <thead>\n",
       "    <tr style=\"text-align: right;\">\n",
       "      <th></th>\n",
       "      <th>price</th>\n",
       "      <th>area</th>\n",
       "      <th>bedrooms</th>\n",
       "      <th>bathrooms</th>\n",
       "      <th>stories</th>\n",
       "      <th>mainroad</th>\n",
       "      <th>guestroom</th>\n",
       "      <th>basement</th>\n",
       "      <th>hotwaterheating</th>\n",
       "      <th>airconditioning</th>\n",
       "      <th>parking</th>\n",
       "      <th>prefarea</th>\n",
       "      <th>furnishingstatus</th>\n",
       "    </tr>\n",
       "  </thead>\n",
       "  <tbody>\n",
       "    <tr>\n",
       "      <th>0</th>\n",
       "      <td>13300000</td>\n",
       "      <td>7420</td>\n",
       "      <td>4</td>\n",
       "      <td>2</td>\n",
       "      <td>3</td>\n",
       "      <td>1</td>\n",
       "      <td>0</td>\n",
       "      <td>0</td>\n",
       "      <td>0</td>\n",
       "      <td>1</td>\n",
       "      <td>2</td>\n",
       "      <td>1</td>\n",
       "      <td>furnished</td>\n",
       "    </tr>\n",
       "    <tr>\n",
       "      <th>1</th>\n",
       "      <td>12250000</td>\n",
       "      <td>8960</td>\n",
       "      <td>4</td>\n",
       "      <td>4</td>\n",
       "      <td>4</td>\n",
       "      <td>1</td>\n",
       "      <td>0</td>\n",
       "      <td>0</td>\n",
       "      <td>0</td>\n",
       "      <td>1</td>\n",
       "      <td>3</td>\n",
       "      <td>0</td>\n",
       "      <td>furnished</td>\n",
       "    </tr>\n",
       "    <tr>\n",
       "      <th>2</th>\n",
       "      <td>12250000</td>\n",
       "      <td>9960</td>\n",
       "      <td>3</td>\n",
       "      <td>2</td>\n",
       "      <td>2</td>\n",
       "      <td>1</td>\n",
       "      <td>0</td>\n",
       "      <td>1</td>\n",
       "      <td>0</td>\n",
       "      <td>0</td>\n",
       "      <td>2</td>\n",
       "      <td>1</td>\n",
       "      <td>semi-furnished</td>\n",
       "    </tr>\n",
       "    <tr>\n",
       "      <th>3</th>\n",
       "      <td>12215000</td>\n",
       "      <td>7500</td>\n",
       "      <td>4</td>\n",
       "      <td>2</td>\n",
       "      <td>2</td>\n",
       "      <td>1</td>\n",
       "      <td>0</td>\n",
       "      <td>1</td>\n",
       "      <td>0</td>\n",
       "      <td>1</td>\n",
       "      <td>3</td>\n",
       "      <td>1</td>\n",
       "      <td>furnished</td>\n",
       "    </tr>\n",
       "    <tr>\n",
       "      <th>4</th>\n",
       "      <td>11410000</td>\n",
       "      <td>7420</td>\n",
       "      <td>4</td>\n",
       "      <td>1</td>\n",
       "      <td>2</td>\n",
       "      <td>1</td>\n",
       "      <td>1</td>\n",
       "      <td>1</td>\n",
       "      <td>0</td>\n",
       "      <td>1</td>\n",
       "      <td>2</td>\n",
       "      <td>0</td>\n",
       "      <td>furnished</td>\n",
       "    </tr>\n",
       "  </tbody>\n",
       "</table>\n",
       "</div>"
      ],
      "text/plain": [
       "      price  area  bedrooms  bathrooms  stories  mainroad  guestroom  \\\n",
       "0  13300000  7420         4          2        3         1          0   \n",
       "1  12250000  8960         4          4        4         1          0   \n",
       "2  12250000  9960         3          2        2         1          0   \n",
       "3  12215000  7500         4          2        2         1          0   \n",
       "4  11410000  7420         4          1        2         1          1   \n",
       "\n",
       "   basement  hotwaterheating  airconditioning  parking  prefarea  \\\n",
       "0         0                0                1        2         1   \n",
       "1         0                0                1        3         0   \n",
       "2         1                0                0        2         1   \n",
       "3         1                0                1        3         1   \n",
       "4         1                0                1        2         0   \n",
       "\n",
       "  furnishingstatus  \n",
       "0        furnished  \n",
       "1        furnished  \n",
       "2   semi-furnished  \n",
       "3        furnished  \n",
       "4        furnished  "
      ]
     },
     "execution_count": 6,
     "metadata": {},
     "output_type": "execute_result"
    }
   ],
   "source": [
    "varlist = ['mainroad', 'guestroom', 'basement', 'hotwaterheating', 'airconditioning', 'prefarea']\n",
    "\n",
    "def binary_map(x):\n",
    "    return x.map({'yes': 1, \"no\": 0})\n",
    "\n",
    "housing[varlist] = housing[varlist].apply(binary_map)\n",
    "housing.head()"
   ]
  },
  {
   "cell_type": "code",
   "execution_count": 7,
   "id": "854a7e7a",
   "metadata": {},
   "outputs": [
    {
     "data": {
      "text/plain": [
       "(381, 13)"
      ]
     },
     "execution_count": 7,
     "metadata": {},
     "output_type": "execute_result"
    }
   ],
   "source": [
    "from sklearn.model_selection import train_test_split\n",
    "\n",
    "np.random.seed(0)\n",
    "df_train, df_test = train_test_split(housing, train_size = 0.7, test_size = 0.3, random_state = 10)\n",
    "df_train.shape"
   ]
  },
  {
   "cell_type": "code",
   "execution_count": 8,
   "id": "ce5e7756",
   "metadata": {},
   "outputs": [],
   "source": [
    "# training set\n",
    "# set all variable arrays\n",
    "price = df_train.values[:, 0]\n",
    "area = df_train.values[:, 1]\n",
    "bedrooms = df_train.values[:, 2]\n",
    "bathrooms = df_train.values[:, 3]\n",
    "stories = df_train.values[:, 4]\n",
    "parking = df_train.values[:, 10]\n",
    "\n",
    "M = len(df_train)\n",
    "\n",
    "#reshape arrays\n",
    "X0 = np.ones((M,1))\n",
    "X1 = area.reshape(M,1)\n",
    "X2 = bedrooms.reshape(M,1)\n",
    "X3 = bathrooms.reshape(M,1)\n",
    "X4 = stories.reshape(M,1)\n",
    "X5 = parking.reshape(M,1)\n",
    "\n",
    "# create X and Y\n",
    "X = np.hstack((X0, X1, X2, X3, X4, X5))\n",
    "Y = price"
   ]
  },
  {
   "cell_type": "code",
   "execution_count": 9,
   "id": "6594cbbf",
   "metadata": {},
   "outputs": [],
   "source": [
    "theta = np.zeros(6)\n",
    "iterations = 1500;\n",
    "alpha = 0.0000000001;\n",
    "\n",
    "\n",
    "#calculated results from the gradient descent\n",
    "theta, cost_history_train = gradient_descent(X, Y, theta, alpha, iterations)"
   ]
  },
  {
   "cell_type": "code",
   "execution_count": 10,
   "id": "92ba4ac6",
   "metadata": {},
   "outputs": [],
   "source": [
    "# test set\n",
    "# set all variable arrays\n",
    "price = df_test.values[:, 0]\n",
    "area = df_test.values[:, 1]\n",
    "bedrooms = df_test.values[:, 2]\n",
    "bathrooms = df_test.values[:, 3]\n",
    "stories = df_test.values[:, 4]\n",
    "parking = df_test.values[:, 10]\n",
    "\n",
    "M = len(df_test)\n",
    "\n",
    "#reshape arrays\n",
    "X0 = np.ones((M,1))\n",
    "X1 = area.reshape(M,1)\n",
    "X2 = bedrooms.reshape(M,1)\n",
    "X3 = bathrooms.reshape(M,1)\n",
    "X4 = stories.reshape(M,1)\n",
    "X5 = parking.reshape(M,1)\n",
    "\n",
    "# create X and Y\n",
    "X = np.hstack((X0, X1, X2, X3, X4, X5))\n",
    "Y = price"
   ]
  },
  {
   "cell_type": "code",
   "execution_count": 11,
   "id": "cbe630e0",
   "metadata": {},
   "outputs": [],
   "source": [
    "theta = np.zeros(6)\n",
    "iterations = 1500;\n",
    "alpha = 0.0000000001;\n",
    "\n",
    "\n",
    "#calculated results from the gradient descent\n",
    "theta, cost_history_test = gradient_descent(X, Y, theta, alpha, iterations)"
   ]
  },
  {
   "cell_type": "code",
   "execution_count": 12,
   "id": "0fcbb85d",
   "metadata": {},
   "outputs": [
    {
     "data": {
      "text/plain": [
       "Text(0.5, 1.0, 'Cost for X')"
      ]
     },
     "execution_count": 12,
     "metadata": {},
     "output_type": "execute_result"
    },
    {
     "data": {
      "image/png": "[encoded data removed]",
      "text/plain": [
       "<Figure size 432x288 with 1 Axes>"
      ]
     },
     "metadata": {
      "needs_background": "light"
     },
     "output_type": "display_data"
    }
   ],
   "source": [
    "plt.plot(range(1, iterations + 1),cost_history_train, color='blue', label = \"Training Cost\")\n",
    "plt.plot(range(1, iterations + 1),cost_history_test, color='orange', label = \"Evaluation Cost\")\n",
    "plt.rcParams[\"figure.figsize\"] = (10,6)\n",
    "plt.grid()\n",
    "plt.legend()\n",
    "plt.xlabel('Number of iterations')\n",
    "plt.ylabel('Cost (J)')\n",
    "plt.title('Cost for X')"
   ]
  },
  {
   "cell_type": "code",
   "execution_count": 13,
   "id": "f47ea982",
   "metadata": {},
   "outputs": [],
   "source": [
    "#Problem 1b"
   ]
  },
  {
   "cell_type": "code",
   "execution_count": 14,
   "id": "1fa535a1",
   "metadata": {},
   "outputs": [],
   "source": [
    "# training set\n",
    "# set all variable arrays\n",
    "price = df_train.values[:, 0]\n",
    "area = df_train.values[:, 1]\n",
    "bedrooms = df_train.values[:, 2]\n",
    "bathrooms = df_train.values[:, 3]\n",
    "stories = df_train.values[:, 4]\n",
    "mainroad = df_train.values[:, 5]\n",
    "guestroom = df_train.values[:, 6]\n",
    "basement = df_train.values[:, 7]\n",
    "hotwaterheating = df_train.values[:, 8]\n",
    "airconditioning = df_train.values[:, 9]\n",
    "parking = df_train.values[:, 10]\n",
    "prefarea = df_train.values[:, 11]\n",
    "\n",
    "M = len(df_train)\n",
    "\n",
    "#reshape arrays\n",
    "X0 = np.ones((M,1))\n",
    "X1 = area.reshape(M,1)\n",
    "X2 = bedrooms.reshape(M,1)\n",
    "X3 = bathrooms.reshape(M,1)\n",
    "X4 = stories.reshape(M,1)\n",
    "X5 = mainroad.reshape(M,1)\n",
    "X6 = guestroom.reshape(M,1)\n",
    "X7 = basement.reshape(M,1)\n",
    "X8 = hotwaterheating.reshape(M,1)\n",
    "X9 = airconditioning.reshape(M,1)\n",
    "X10 = parking.reshape(M,1)\n",
    "X11 = prefarea.reshape(M,1)\n",
    "\n",
    "\n",
    "# create X and Y\n",
    "X = np.hstack((X0, X1, X2, X3, X4, X5, X6, X7, X8, X9, X10, X11))\n",
    "Y = price"
   ]
  },
  {
   "cell_type": "code",
   "execution_count": 15,
   "id": "3e38580e",
   "metadata": {},
   "outputs": [],
   "source": [
    "theta = np.zeros(12)\n",
    "iterations = 1500;\n",
    "alpha = 0.0000000001;\n",
    "\n",
    "\n",
    "#calculated results from the gradient descent\n",
    "theta, cost_history_train = gradient_descent(X, Y, theta, alpha, iterations)"
   ]
  },
  {
   "cell_type": "code",
   "execution_count": 16,
   "id": "9c686f83",
   "metadata": {},
   "outputs": [],
   "source": [
    "# Test set\n",
    "# set all variable arrays\n",
    "price = df_test.values[:, 0]\n",
    "area = df_test.values[:, 1]\n",
    "bedrooms = df_test.values[:, 2]\n",
    "bathrooms = df_test.values[:, 3]\n",
    "stories = df_test.values[:, 4]\n",
    "mainroad = df_test.values[:, 5]\n",
    "guestroom = df_test.values[:, 6]\n",
    "basement = df_test.values[:, 7]\n",
    "hotwaterheating = df_test.values[:, 8]\n",
    "airconditioning = df_test.values[:, 9]\n",
    "parking = df_test.values[:, 10]\n",
    "prefarea = df_test.values[:, 11]\n",
    "\n",
    "M = len(df_test)\n",
    "\n",
    "#reshape arrays\n",
    "X0 = np.ones((M,1))\n",
    "X1 = area.reshape(M,1)\n",
    "X2 = bedrooms.reshape(M,1)\n",
    "X3 = bathrooms.reshape(M,1)\n",
    "X4 = stories.reshape(M,1)\n",
    "X5 = mainroad.reshape(M,1)\n",
    "X6 = guestroom.reshape(M,1)\n",
    "X7 = basement.reshape(M,1)\n",
    "X8 = hotwaterheating.reshape(M,1)\n",
    "X9 = airconditioning.reshape(M,1)\n",
    "X10 = parking.reshape(M,1)\n",
    "X11 = prefarea.reshape(M,1)\n",
    "\n",
    "\n",
    "# create X and Y\n",
    "X = np.hstack((X0, X1, X2, X3, X4, X5, X6, X7, X8, X9, X10, X11))\n",
    "Y = price"
   ]
  },
  {
   "cell_type": "code",
   "execution_count": 17,
   "id": "9e167946",
   "metadata": {},
   "outputs": [],
   "source": [
    "theta = np.zeros(12)\n",
    "iterations = 1500;\n",
    "alpha = 0.0000000001;\n",
    "\n",
    "\n",
    "#calculated results from the gradient descent\n",
    "theta, cost_history_test = gradient_descent(X, Y, theta, alpha, iterations)"
   ]
  },
  {
   "cell_type": "code",
   "execution_count": 18,
   "id": "514b48be",
   "metadata": {},
   "outputs": [
    {
     "data": {
      "text/plain": [
       "Text(0.5, 1.0, 'Cost for X')"
      ]
     },
     "execution_count": 18,
     "metadata": {},
     "output_type": "execute_result"
    },
    {
     "data": {
      "image/png": "[encoded data removed]",
      "text/plain": [
       "<Figure size 720x432 with 1 Axes>"
      ]
     },
     "metadata": {
      "needs_background": "light"
     },
     "output_type": "display_data"
    }
   ],
   "source": [
    "plt.plot(range(1, iterations + 1),cost_history_train, color='blue', label = \"Training Cost\")\n",
    "plt.plot(range(1, iterations + 1),cost_history_test, color='orange', label = \"Evaluation Cost\")\n",
    "plt.rcParams[\"figure.figsize\"] = (10,6)\n",
    "plt.grid()\n",
    "plt.legend()\n",
    "plt.xlabel('Number of iterations')\n",
    "plt.ylabel('Cost (J)')\n",
    "plt.title('Cost for X')"
   ]
  },
  {
   "cell_type": "code",
   "execution_count": 19,
   "id": "79ab1b5a",
   "metadata": {},
   "outputs": [],
   "source": [
    "# problem 2a"
   ]
  },
  {
   "cell_type": "code",
   "execution_count": 20,
   "id": "ed9a250f",
   "metadata": {},
   "outputs": [],
   "source": [
    "import warnings\n",
    "warnings.filterwarnings('ignore')\n",
    "\n",
    "from sklearn.preprocessing import MinMaxScaler, StandardScaler\n",
    "\n",
    "normalScaler = MinMaxScaler()\n",
    "standardScaler = StandardScaler()"
   ]
  },
  {
   "cell_type": "code",
   "execution_count": 21,
   "id": "e365e4d4",
   "metadata": {},
   "outputs": [],
   "source": [
    "# input normalization"
   ]
  },
  {
   "cell_type": "code",
   "execution_count": 22,
   "id": "37ba69fa",
   "metadata": {},
   "outputs": [],
   "source": [
    "np.random.seed(0)\n",
    "df_NormTrain, df_NormTest = train_test_split(housing, train_size = 0.7, test_size = 0.3, random_state = 10)\n",
    "df_NormTest.shape\n",
    "\n",
    "num_vars = ['price', 'area', 'bedrooms', 'bathrooms', 'stories', 'mainroad', 'guestroom', 'basement', 'hotwaterheating', 'airconditioning', 'parking', 'prefarea']\n",
    "df_NormTrain[num_vars] = normalScaler.fit_transform(df_NormTrain[num_vars])\n",
    "df_NormTest[num_vars] = normalScaler.fit_transform(df_NormTest[num_vars])\n",
    "\n",
    "# training set\n",
    "# set all variable arrays\n",
    "price = df_NormTrain.values[:, 0]\n",
    "area = df_NormTrain.values[:, 1]\n",
    "bedrooms = df_NormTrain.values[:, 2]\n",
    "bathrooms = df_NormTrain.values[:, 3]\n",
    "stories = df_NormTrain.values[:, 4]\n",
    "parking = df_NormTrain.values[:, 10]\n",
    "\n",
    "M = len(df_NormTrain)\n",
    "\n",
    "#reshape arrays\n",
    "X0 = np.ones((M,1))\n",
    "X1 = area.reshape(M,1)\n",
    "X2 = bedrooms.reshape(M,1)\n",
    "X3 = bathrooms.reshape(M,1)\n",
    "X4 = stories.reshape(M,1)\n",
    "X5 = parking.reshape(M,1)\n",
    "\n",
    "# create X and Y\n",
    "X = np.hstack((X0, X1, X2, X3, X4, X5))\n",
    "Y = price"
   ]
  },
  {
   "cell_type": "code",
   "execution_count": 23,
   "id": "1399b719",
   "metadata": {},
   "outputs": [],
   "source": [
    "theta = np.zeros(6)\n",
    "iterations = 1500;\n",
    "alpha = 0.01;\n",
    "\n",
    "\n",
    "#calculated results from the gradient descent\n",
    "theta, cost_history_NormTrain = gradient_descent(X, Y, theta, alpha, iterations)"
   ]
  },
  {
   "cell_type": "code",
   "execution_count": 24,
   "id": "526d9051",
   "metadata": {},
   "outputs": [],
   "source": [
    "# Test set\n",
    "# set all variable arrays\n",
    "price = df_NormTest.values[:, 0]\n",
    "area = df_NormTest.values[:, 1]\n",
    "bedrooms = df_NormTest.values[:, 2]\n",
    "bathrooms = df_NormTest.values[:, 3]\n",
    "stories = df_NormTest.values[:, 4]\n",
    "parking = df_NormTest.values[:, 10]\n",
    "\n",
    "M = len(df_NormTest)\n",
    "\n",
    "#reshape arrays\n",
    "X0 = np.ones((M,1))\n",
    "X1 = area.reshape(M,1)\n",
    "X2 = bedrooms.reshape(M,1)\n",
    "X3 = bathrooms.reshape(M,1)\n",
    "X4 = stories.reshape(M,1)\n",
    "X5 = parking.reshape(M,1)\n",
    "\n",
    "# create X and Y\n",
    "X = np.hstack((X0, X1, X2, X3, X4, X5))\n",
    "Y = price"
   ]
  },
  {
   "cell_type": "code",
   "execution_count": 25,
   "id": "ac299bc9",
   "metadata": {},
   "outputs": [],
   "source": [
    "theta = np.zeros(6)\n",
    "iterations = 1500;\n",
    "alpha = 0.01;\n",
    "\n",
    "\n",
    "#calculated results from the gradient descent\n",
    "theta, cost_history_NormTest = gradient_descent(X, Y, theta, alpha, iterations)"
   ]
  },
  {
   "cell_type": "code",
   "execution_count": 26,
   "id": "411b9d43",
   "metadata": {},
   "outputs": [
    {
     "data": {
      "text/plain": [
       "Text(0.5, 1.0, 'Cost for X with Normalized Input')"
      ]
     },
     "execution_count": 26,
     "metadata": {},
     "output_type": "execute_result"
    },
    {
     "data": {
      "image/png": "[encoded data removed]",
      "text/plain": [
       "<Figure size 720x432 with 1 Axes>"
      ]
     },
     "metadata": {
      "needs_background": "light"
     },
     "output_type": "display_data"
    }
   ],
   "source": [
    "plt.plot(range(1, iterations + 1),cost_history_NormTrain, color='blue', label = \"Training Cost\")\n",
    "plt.plot(range(1, iterations + 1),cost_history_NormTest, color='orange', label = \"Evaluation Cost\")\n",
    "plt.rcParams[\"figure.figsize\"] = (10,6)\n",
    "plt.grid()\n",
    "plt.legend()\n",
    "plt.xlabel('Number of iterations')\n",
    "plt.ylabel('Cost (J)')\n",
    "plt.title('Cost for X with Normalized Input')"
   ]
  },
  {
   "cell_type": "code",
   "execution_count": 27,
   "id": "2eae2c7b",
   "metadata": {},
   "outputs": [],
   "source": [
    "#input standardization"
   ]
  },
  {
   "cell_type": "code",
   "execution_count": 28,
   "id": "7158b237",
   "metadata": {},
   "outputs": [],
   "source": [
    "np.random.seed(0)\n",
    "df_StandardTrain, df_StandardTest = train_test_split(housing, train_size = 0.7, test_size = 0.3, random_state = 10)\n",
    "df_StandardTest.shape\n",
    "\n",
    "num_vars = ['price', 'area', 'bedrooms', 'bathrooms', 'stories', 'mainroad', 'guestroom', 'basement', 'hotwaterheating', 'airconditioning', 'parking', 'prefarea']\n",
    "df_StandardTrain[num_vars] = standardScaler.fit_transform(df_StandardTrain[num_vars])\n",
    "df_StandardTest[num_vars] = standardScaler.fit_transform(df_StandardTest[num_vars])\n",
    "\n",
    "# training set\n",
    "# set all variable arrays\n",
    "price = df_StandardTrain.values[:, 0]\n",
    "area = df_StandardTrain.values[:, 1]\n",
    "bedrooms = df_StandardTrain.values[:, 2]\n",
    "bathrooms = df_StandardTrain.values[:, 3]\n",
    "stories = df_StandardTrain.values[:, 4]\n",
    "parking = df_StandardTrain.values[:, 10]\n",
    "\n",
    "M = len(df_StandardTrain)\n",
    "\n",
    "#reshape arrays\n",
    "X0 = np.ones((M,1))\n",
    "X1 = area.reshape(M,1)\n",
    "X2 = bedrooms.reshape(M,1)\n",
    "X3 = bathrooms.reshape(M,1)\n",
    "X4 = stories.reshape(M,1)\n",
    "X5 = parking.reshape(M,1)\n",
    "\n",
    "# create X and Y\n",
    "X = np.hstack((X0, X1, X2, X3, X4, X5))\n",
    "Y = price"
   ]
  },
  {
   "cell_type": "code",
   "execution_count": 29,
   "id": "2740f168",
   "metadata": {},
   "outputs": [],
   "source": [
    "theta = np.zeros(6)\n",
    "iterations = 1500;\n",
    "alpha = 0.01;\n",
    "\n",
    "\n",
    "#calculated results from the gradient descent\n",
    "theta, cost_history_StandardTrain = gradient_descent(X, Y, theta, alpha, iterations)"
   ]
  },
  {
   "cell_type": "code",
   "execution_count": 30,
   "id": "ef6103bd",
   "metadata": {},
   "outputs": [],
   "source": [
    "# Test set\n",
    "# set all variable arrays\n",
    "price = df_StandardTest.values[:, 0]\n",
    "area = df_StandardTest.values[:, 1]\n",
    "bedrooms = df_StandardTest.values[:, 2]\n",
    "bathrooms = df_StandardTest.values[:, 3]\n",
    "stories = df_StandardTest.values[:, 4]\n",
    "parking = df_StandardTest.values[:, 10]\n",
    "\n",
    "M = len(df_StandardTest)\n",
    "\n",
    "#reshape arrays\n",
    "X0 = np.ones((M,1))\n",
    "X1 = area.reshape(M,1)\n",
    "X2 = bedrooms.reshape(M,1)\n",
    "X3 = bathrooms.reshape(M,1)\n",
    "X4 = stories.reshape(M,1)\n",
    "X5 = parking.reshape(M,1)\n",
    "\n",
    "# create X and Y\n",
    "X = np.hstack((X0, X1, X2, X3, X4, X5))\n",
    "Y = price"
   ]
  },
  {
   "cell_type": "code",
   "execution_count": 31,
   "id": "ef60b1b2",
   "metadata": {},
   "outputs": [],
   "source": [
    "theta = np.zeros(6)\n",
    "iterations = 1500;\n",
    "alpha = 0.01;\n",
    "\n",
    "\n",
    "#calculated results from the gradient descent\n",
    "theta, cost_history_StandardTest = gradient_descent(X, Y, theta, alpha, iterations)"
   ]
  },
  {
   "cell_type": "code",
   "execution_count": 32,
   "id": "87ba1a80",
   "metadata": {},
   "outputs": [
    {
     "data": {
      "text/plain": [
       "Text(0.5, 1.0, 'Cost for X with Standardized Input')"
      ]
     },
     "execution_count": 32,
     "metadata": {},
     "output_type": "execute_result"
    },
    {
     "data": {
      "image/png": "[encoded data removed]",
      "text/plain": [
       "<Figure size 720x432 with 1 Axes>"
      ]
     },
     "metadata": {
      "needs_background": "light"
     },
     "output_type": "display_data"
    }
   ],
   "source": [
    "plt.plot(range(1, iterations + 1),cost_history_StandardTrain, color='blue', label = \"Training Cost\")\n",
    "plt.plot(range(1, iterations + 1),cost_history_StandardTest, color='orange', label = \"Evaluation Cost\")\n",
    "plt.rcParams[\"figure.figsize\"] = (10,6)\n",
    "plt.grid()\n",
    "plt.legend()\n",
    "plt.xlabel('Number of iterations')\n",
    "plt.ylabel('Cost (J)')\n",
    "plt.title('Cost for X with Standardized Input')"
   ]
  },
  {
   "cell_type": "code",
   "execution_count": 33,
   "id": "ba1f3348",
   "metadata": {},
   "outputs": [],
   "source": [
    "#problem 2b"
   ]
  },
  {
   "cell_type": "code",
   "execution_count": 34,
   "id": "d5a3c7ea",
   "metadata": {},
   "outputs": [],
   "source": [
    "#input normalization"
   ]
  },
  {
   "cell_type": "code",
   "execution_count": 35,
   "id": "abf1c9c0",
   "metadata": {},
   "outputs": [],
   "source": [
    "# training set\n",
    "# set all variable arrays\n",
    "price = df_NormTrain.values[:, 0]\n",
    "area = df_NormTrain.values[:, 1]\n",
    "bedrooms = df_NormTrain.values[:, 2]\n",
    "bathrooms = df_NormTrain.values[:, 3]\n",
    "stories = df_NormTrain.values[:, 4]\n",
    "mainroad = df_NormTrain.values[:, 5]\n",
    "guestroom = df_NormTrain.values[:, 6]\n",
    "basement = df_NormTrain.values[:, 7]\n",
    "hotwaterheating = df_NormTrain.values[:, 8]\n",
    "airconditioning = df_NormTrain.values[:, 9]\n",
    "parking = df_NormTrain.values[:, 10]\n",
    "prefarea = df_NormTrain.values[:, 11]\n",
    "\n",
    "M = len(df_NormTrain)\n",
    "\n",
    "#reshape arrays\n",
    "X0 = np.ones((M,1))\n",
    "X1 = area.reshape(M,1)\n",
    "X2 = bedrooms.reshape(M,1)\n",
    "X3 = bathrooms.reshape(M,1)\n",
    "X4 = stories.reshape(M,1)\n",
    "X5 = mainroad.reshape(M,1)\n",
    "X6 = guestroom.reshape(M,1)\n",
    "X7 = basement.reshape(M,1)\n",
    "X8 = hotwaterheating.reshape(M,1)\n",
    "X9 = airconditioning.reshape(M,1)\n",
    "X10 = parking.reshape(M,1)\n",
    "X11 = prefarea.reshape(M,1)\n",
    "\n",
    "\n",
    "# create X and Y\n",
    "X = np.hstack((X0, X1, X2, X3, X4, X5, X6, X7, X8, X9, X10, X11))\n",
    "Y = price"
   ]
  },
  {
   "cell_type": "code",
   "execution_count": 36,
   "id": "104c246c",
   "metadata": {},
   "outputs": [],
   "source": [
    "theta = np.zeros(12)\n",
    "iterations = 1500;\n",
    "alpha = 0.01;\n",
    "\n",
    "\n",
    "#calculated results from the gradient descent\n",
    "theta, cost_history_NormTrain = gradient_descent(X, Y, theta, alpha, iterations)"
   ]
  },
  {
   "cell_type": "code",
   "execution_count": 37,
   "id": "2e24a695",
   "metadata": {},
   "outputs": [],
   "source": [
    "# Test set\n",
    "# set all variable arrays\n",
    "price = df_NormTest.values[:, 0]\n",
    "area = df_NormTest.values[:, 1]\n",
    "bedrooms = df_NormTest.values[:, 2]\n",
    "bathrooms = df_NormTest.values[:, 3]\n",
    "stories = df_NormTest.values[:, 4]\n",
    "mainroad = df_NormTest.values[:, 5]\n",
    "guestroom = df_NormTest.values[:, 6]\n",
    "basement = df_NormTest.values[:, 7]\n",
    "hotwaterheating = df_NormTest.values[:, 8]\n",
    "airconditioning = df_NormTest.values[:, 9]\n",
    "parking = df_NormTest.values[:, 10]\n",
    "prefarea = df_NormTest.values[:, 11]\n",
    "\n",
    "M = len(df_NormTest)\n",
    "\n",
    "#reshape arrays\n",
    "X0 = np.ones((M,1))\n",
    "X1 = area.reshape(M,1)\n",
    "X2 = bedrooms.reshape(M,1)\n",
    "X3 = bathrooms.reshape(M,1)\n",
    "X4 = stories.reshape(M,1)\n",
    "X5 = mainroad.reshape(M,1)\n",
    "X6 = guestroom.reshape(M,1)\n",
    "X7 = basement.reshape(M,1)\n",
    "X8 = hotwaterheating.reshape(M,1)\n",
    "X9 = airconditioning.reshape(M,1)\n",
    "X10 = parking.reshape(M,1)\n",
    "X11 = prefarea.reshape(M,1)\n",
    "\n",
    "\n",
    "# create X and Y\n",
    "X = np.hstack((X0, X1, X2, X3, X4, X5, X6, X7, X8, X9, X10, X11))\n",
    "Y = price"
   ]
  },
  {
   "cell_type": "code",
   "execution_count": 38,
   "id": "b66173b5",
   "metadata": {},
   "outputs": [],
   "source": [
    "theta = np.zeros(12)\n",
    "iterations = 1500;\n",
    "alpha = 0.01;\n",
    "\n",
    "\n",
    "#calculated results from the gradient descent\n",
    "theta, cost_history_NormTest = gradient_descent(X, Y, theta, alpha, iterations)"
   ]
  },
  {
   "cell_type": "code",
   "execution_count": 39,
   "id": "b2c3caad",
   "metadata": {},
   "outputs": [
    {
     "data": {
      "text/plain": [
       "Text(0.5, 1.0, 'Cost for X with Normalized Input')"
      ]
     },
     "execution_count": 39,
     "metadata": {},
     "output_type": "execute_result"
    },
    {
     "data": {
      "image/png": "[encoded data removed]",
      "text/plain": [
       "<Figure size 720x432 with 1 Axes>"
      ]
     },
     "metadata": {
      "needs_background": "light"
     },
     "output_type": "display_data"
    }
   ],
   "source": [
    "plt.plot(range(1, iterations + 1),cost_history_NormTrain, color='blue', label = \"Training Cost\")\n",
    "plt.plot(range(1, iterations + 1),cost_history_NormTest, color='orange', label = \"Evaluation Cost\")\n",
    "plt.rcParams[\"figure.figsize\"] = (10,6)\n",
    "plt.grid()\n",
    "plt.legend()\n",
    "plt.xlabel('Number of iterations')\n",
    "plt.ylabel('Cost (J)')\n",
    "plt.title('Cost for X with Normalized Input')"
   ]
  },
  {
   "cell_type": "code",
   "execution_count": 40,
   "id": "17f3dce7",
   "metadata": {},
   "outputs": [],
   "source": [
    "#input standardization"
   ]
  },
  {
   "cell_type": "code",
   "execution_count": 41,
   "id": "d89d2925",
   "metadata": {},
   "outputs": [],
   "source": [
    "# training set\n",
    "# set all variable arrays\n",
    "price = df_StandardTrain.values[:, 0]\n",
    "area = df_StandardTrain.values[:, 1]\n",
    "bedrooms = df_StandardTrain.values[:, 2]\n",
    "bathrooms = df_StandardTrain.values[:, 3]\n",
    "stories = df_StandardTrain.values[:, 4]\n",
    "mainroad = df_StandardTrain.values[:, 5]\n",
    "guestroom = df_StandardTrain.values[:, 6]\n",
    "basement = df_StandardTrain.values[:, 7]\n",
    "hotwaterheating = df_StandardTrain.values[:, 8]\n",
    "airconditioning = df_StandardTrain.values[:, 9]\n",
    "parking = df_StandardTrain.values[:, 10]\n",
    "prefarea = df_StandardTrain.values[:, 11]\n",
    "\n",
    "M = len(df_StandardTrain)\n",
    "\n",
    "#reshape arrays\n",
    "X0 = np.ones((M,1))\n",
    "X1 = area.reshape(M,1)\n",
    "X2 = bedrooms.reshape(M,1)\n",
    "X3 = bathrooms.reshape(M,1)\n",
    "X4 = stories.reshape(M,1)\n",
    "X5 = mainroad.reshape(M,1)\n",
    "X6 = guestroom.reshape(M,1)\n",
    "X7 = basement.reshape(M,1)\n",
    "X8 = hotwaterheating.reshape(M,1)\n",
    "X9 = airconditioning.reshape(M,1)\n",
    "X10 = parking.reshape(M,1)\n",
    "X11 = prefarea.reshape(M,1)\n",
    "\n",
    "\n",
    "# create X and Y\n",
    "X = np.hstack((X0, X1, X2, X3, X4, X5, X6, X7, X8, X9, X10, X11))\n",
    "Y = price"
   ]
  },
  {
   "cell_type": "code",
   "execution_count": 42,
   "id": "f6ca3ef0",
   "metadata": {},
   "outputs": [],
   "source": [
    "theta = np.zeros(12)\n",
    "iterations = 1500;\n",
    "alpha = 0.01;\n",
    "\n",
    "\n",
    "#calculated results from the gradient descent\n",
    "theta, cost_history_StandardTrain = gradient_descent(X, Y, theta, alpha, iterations)"
   ]
  },
  {
   "cell_type": "code",
   "execution_count": 43,
   "id": "297f7719",
   "metadata": {},
   "outputs": [],
   "source": [
    "# Test set\n",
    "# set all variable arrays\n",
    "price = df_StandardTest.values[:, 0]\n",
    "area = df_StandardTest.values[:, 1]\n",
    "bedrooms = df_StandardTest.values[:, 2]\n",
    "bathrooms = df_StandardTest.values[:, 3]\n",
    "stories = df_StandardTest.values[:, 4]\n",
    "mainroad = df_StandardTest.values[:, 5]\n",
    "guestroom = df_StandardTest.values[:, 6]\n",
    "basement = df_StandardTest.values[:, 7]\n",
    "hotwaterheating = df_StandardTest.values[:, 8]\n",
    "airconditioning = df_StandardTest.values[:, 9]\n",
    "parking = df_StandardTest.values[:, 10]\n",
    "prefarea = df_StandardTest.values[:, 11]\n",
    "\n",
    "M = len(df_StandardTest)\n",
    "\n",
    "#reshape arrays\n",
    "X0 = np.ones((M,1))\n",
    "X1 = area.reshape(M,1)\n",
    "X2 = bedrooms.reshape(M,1)\n",
    "X3 = bathrooms.reshape(M,1)\n",
    "X4 = stories.reshape(M,1)\n",
    "X5 = mainroad.reshape(M,1)\n",
    "X6 = guestroom.reshape(M,1)\n",
    "X7 = basement.reshape(M,1)\n",
    "X8 = hotwaterheating.reshape(M,1)\n",
    "X9 = airconditioning.reshape(M,1)\n",
    "X10 = parking.reshape(M,1)\n",
    "X11 = prefarea.reshape(M,1)\n",
    "\n",
    "\n",
    "# create X and Y\n",
    "X = np.hstack((X0, X1, X2, X3, X4, X5, X6, X7, X8, X9, X10, X11))\n",
    "Y = price"
   ]
  },
  {
   "cell_type": "code",
   "execution_count": 44,
   "id": "4ef2cce1",
   "metadata": {},
   "outputs": [],
   "source": [
    "theta = np.zeros(12)\n",
    "iterations = 1500;\n",
    "alpha = 0.01;\n",
    "\n",
    "\n",
    "#calculated results from the gradient descent\n",
    "theta, cost_history_StandardTest = gradient_descent(X, Y, theta, alpha, iterations)"
   ]
  },
  {
   "cell_type": "code",
   "execution_count": 45,
   "id": "52aa52b2",
   "metadata": {},
   "outputs": [
    {
     "data": {
      "text/plain": [
       "Text(0.5, 1.0, 'Cost for X with Standardized Input')"
      ]
     },
     "execution_count": 45,
     "metadata": {},
     "output_type": "execute_result"
    },
    {
     "data": {
      "image/png": "[encoded data removed]",
      "text/plain": [
       "<Figure size 720x432 with 1 Axes>"
      ]
     },
     "metadata": {
      "needs_background": "light"
     },
     "output_type": "display_data"
    }
   ],
   "source": [
    "plt.plot(range(1, iterations + 1),cost_history_StandardTrain, color='blue', label = \"Training Cost\")\n",
    "plt.plot(range(1, iterations + 1),cost_history_StandardTest, color='orange', label = \"Evaluation Cost\")\n",
    "plt.rcParams[\"figure.figsize\"] = (10,6)\n",
    "plt.grid()\n",
    "plt.legend()\n",
    "plt.xlabel('Number of iterations')\n",
    "plt.ylabel('Cost (J)')\n",
    "plt.title('Cost for X with Standardized Input')"
   ]
  },
  {
   "cell_type": "code",
   "execution_count": 46,
   "id": "836e8c56",
   "metadata": {},
   "outputs": [],
   "source": [
    "#problem 3a"
   ]
  },
  {
   "cell_type": "code",
   "execution_count": 47,
   "id": "c019e698",
   "metadata": {},
   "outputs": [],
   "source": [
    "np.random.seed(0)\n",
    "df_NormTrain, df_NormTest = train_test_split(housing, train_size = 0.7, test_size = 0.3, random_state = 10)\n",
    "df_NormTest.shape\n",
    "\n",
    "num_vars = ['price', 'area', 'bedrooms', 'bathrooms', 'stories', 'mainroad', 'guestroom', 'basement', 'hotwaterheating', 'airconditioning', 'parking', 'prefarea']\n",
    "df_NormTrain[num_vars] = normalScaler.fit_transform(df_NormTrain[num_vars])\n",
    "df_NormTest[num_vars] = normalScaler.fit_transform(df_NormTest[num_vars])\n",
    "\n",
    "# training set\n",
    "# set all variable arrays\n",
    "price = df_NormTrain.values[:, 0]\n",
    "area = df_NormTrain.values[:, 1]\n",
    "bedrooms = df_NormTrain.values[:, 2]\n",
    "bathrooms = df_NormTrain.values[:, 3]\n",
    "stories = df_NormTrain.values[:, 4]\n",
    "parking = df_NormTrain.values[:, 10]\n",
    "\n",
    "M = len(df_NormTrain)\n",
    "\n",
    "#reshape arrays\n",
    "X0 = np.ones((M,1))\n",
    "X1 = area.reshape(M,1)\n",
    "X2 = bedrooms.reshape(M,1)\n",
    "X3 = bathrooms.reshape(M,1)\n",
    "X4 = stories.reshape(M,1)\n",
    "X5 = parking.reshape(M,1)\n",
    "\n",
    "# create X and Y\n",
    "X = np.hstack((X0, X1, X2, X3, X4, X5))\n",
    "Y = price"
   ]
  },
  {
   "cell_type": "code",
   "execution_count": 48,
   "id": "5706af4d",
   "metadata": {},
   "outputs": [],
   "source": [
    "theta = np.zeros(6)\n",
    "iterations = 1500;\n",
    "alpha = 0.01;\n",
    "lamb = 10;\n",
    "\n",
    "\n",
    "#calculated results from the gradient descent\n",
    "theta, cost_history_NormTrain = gradient_descent_regularized(X, Y, theta, alpha, iterations, lamb)"
   ]
  },
  {
   "cell_type": "code",
   "execution_count": 49,
   "id": "6138e504",
   "metadata": {},
   "outputs": [],
   "source": [
    "# Test set\n",
    "# set all variable arrays\n",
    "price = df_NormTest.values[:, 0]\n",
    "area = df_NormTest.values[:, 1]\n",
    "bedrooms = df_NormTest.values[:, 2]\n",
    "bathrooms = df_NormTest.values[:, 3]\n",
    "stories = df_NormTest.values[:, 4]\n",
    "parking = df_NormTest.values[:, 10]\n",
    "\n",
    "M = len(df_NormTest)\n",
    "\n",
    "#reshape arrays\n",
    "X0 = np.ones((M,1))\n",
    "X1 = area.reshape(M,1)\n",
    "X2 = bedrooms.reshape(M,1)\n",
    "X3 = bathrooms.reshape(M,1)\n",
    "X4 = stories.reshape(M,1)\n",
    "X5 = parking.reshape(M,1)\n",
    "\n",
    "# create X and Y\n",
    "X = np.hstack((X0, X1, X2, X3, X4, X5))\n",
    "Y = price"
   ]
  },
  {
   "cell_type": "code",
   "execution_count": 50,
   "id": "527ef46c",
   "metadata": {},
   "outputs": [],
   "source": [
    "theta = np.zeros(6)\n",
    "iterations = 1500;\n",
    "alpha = 0.01;\n",
    "lamb = 10;\n",
    "\n",
    "\n",
    "#calculated results from the gradient descent\n",
    "theta, cost_history_NormTest = gradient_descent_regularized(X, Y, theta, alpha, iterations, lamb)"
   ]
  },
  {
   "cell_type": "code",
   "execution_count": 51,
   "id": "5dac6398",
   "metadata": {},
   "outputs": [
    {
     "data": {
      "text/plain": [
       "Text(0.5, 1.0, 'Cost for X with Normalized Input')"
      ]
     },
     "execution_count": 51,
     "metadata": {},
     "output_type": "execute_result"
    },
    {
     "data": {
      "image/png": "[encoded data removed]",
      "text/plain": [
       "<Figure size 720x432 with 1 Axes>"
      ]
     },
     "metadata": {
      "needs_background": "light"
     },
     "output_type": "display_data"
    }
   ],
   "source": [
    "plt.plot(range(1, iterations + 1),cost_history_NormTrain, color='blue', label = \"Training Cost\")\n",
    "plt.plot(range(1, iterations + 1),cost_history_NormTest, color='orange', label = \"Evaluation Cost\")\n",
    "plt.rcParams[\"figure.figsize\"] = (10,6)\n",
    "plt.grid()\n",
    "plt.legend()\n",
    "plt.xlabel('Number of iterations')\n",
    "plt.ylabel('Cost (J)')\n",
    "plt.title('Cost for X with Normalized Input')"
   ]
  },
  {
   "cell_type": "code",
   "execution_count": 52,
   "id": "b12dc88a",
   "metadata": {},
   "outputs": [],
   "source": [
    "#problem 3b"
   ]
  },
  {
   "cell_type": "code",
   "execution_count": 53,
   "id": "9ea4cb16",
   "metadata": {},
   "outputs": [],
   "source": [
    "# training set\n",
    "# set all variable arrays\n",
    "price = df_NormTrain.values[:, 0]\n",
    "area = df_NormTrain.values[:, 1]\n",
    "bedrooms = df_NormTrain.values[:, 2]\n",
    "bathrooms = df_NormTrain.values[:, 3]\n",
    "stories = df_NormTrain.values[:, 4]\n",
    "mainroad = df_NormTrain.values[:, 5]\n",
    "guestroom = df_NormTrain.values[:, 6]\n",
    "basement = df_NormTrain.values[:, 7]\n",
    "hotwaterheating = df_NormTrain.values[:, 8]\n",
    "airconditioning = df_NormTrain.values[:, 9]\n",
    "parking = df_NormTrain.values[:, 10]\n",
    "prefarea = df_NormTrain.values[:, 11]\n",
    "\n",
    "M = len(df_NormTrain)\n",
    "\n",
    "#reshape arrays\n",
    "X0 = np.ones((M,1))\n",
    "X1 = area.reshape(M,1)\n",
    "X2 = bedrooms.reshape(M,1)\n",
    "X3 = bathrooms.reshape(M,1)\n",
    "X4 = stories.reshape(M,1)\n",
    "X5 = mainroad.reshape(M,1)\n",
    "X6 = guestroom.reshape(M,1)\n",
    "X7 = basement.reshape(M,1)\n",
    "X8 = hotwaterheating.reshape(M,1)\n",
    "X9 = airconditioning.reshape(M,1)\n",
    "X10 = parking.reshape(M,1)\n",
    "X11 = prefarea.reshape(M,1)\n",
    "\n",
    "\n",
    "# create X and Y\n",
    "X = np.hstack((X0, X1, X2, X3, X4, X5, X6, X7, X8, X9, X10, X11))\n",
    "Y = price"
   ]
  },
  {
   "cell_type": "code",
   "execution_count": 54,
   "id": "de8116e3",
   "metadata": {},
   "outputs": [],
   "source": [
    "theta = np.zeros(12)\n",
    "iterations = 1500;\n",
    "alpha = 0.01;\n",
    "lamb = 10;\n",
    "\n",
    "\n",
    "#calculated results from the gradient descent\n",
    "theta, cost_history_NormTrain = gradient_descent_regularized(X, Y, theta, alpha, iterations, lamb)"
   ]
  },
  {
   "cell_type": "code",
   "execution_count": 55,
   "id": "e7c354d0",
   "metadata": {},
   "outputs": [],
   "source": [
    "# Test set\n",
    "# set all variable arrays\n",
    "price = df_NormTest.values[:, 0]\n",
    "area = df_NormTest.values[:, 1]\n",
    "bedrooms = df_NormTest.values[:, 2]\n",
    "bathrooms = df_NormTest.values[:, 3]\n",
    "stories = df_NormTest.values[:, 4]\n",
    "mainroad = df_NormTest.values[:, 5]\n",
    "guestroom = df_NormTest.values[:, 6]\n",
    "basement = df_NormTest.values[:, 7]\n",
    "hotwaterheating = df_NormTest.values[:, 8]\n",
    "airconditioning = df_NormTest.values[:, 9]\n",
    "parking = df_NormTest.values[:, 10]\n",
    "prefarea = df_NormTest.values[:, 11]\n",
    "\n",
    "M = len(df_NormTest)\n",
    "\n",
    "#reshape arrays\n",
    "X0 = np.ones((M,1))\n",
    "X1 = area.reshape(M,1)\n",
    "X2 = bedrooms.reshape(M,1)\n",
    "X3 = bathrooms.reshape(M,1)\n",
    "X4 = stories.reshape(M,1)\n",
    "X5 = mainroad.reshape(M,1)\n",
    "X6 = guestroom.reshape(M,1)\n",
    "X7 = basement.reshape(M,1)\n",
    "X8 = hotwaterheating.reshape(M,1)\n",
    "X9 = airconditioning.reshape(M,1)\n",
    "X10 = parking.reshape(M,1)\n",
    "X11 = prefarea.reshape(M,1)\n",
    "\n",
    "\n",
    "# create X and Y\n",
    "X = np.hstack((X0, X1, X2, X3, X4, X5, X6, X7, X8, X9, X10, X11))\n",
    "Y = price"
   ]
  },
  {
   "cell_type": "code",
   "execution_count": 56,
   "id": "f796f33e",
   "metadata": {},
   "outputs": [],
   "source": [
    "theta = np.zeros(12)\n",
    "iterations = 1500;\n",
    "alpha = 0.01;\n",
    "lamb = 10;\n",
    "\n",
    "\n",
    "#calculated results from the gradient descent\n",
    "theta, cost_history_NormTest = gradient_descent_regularized(X, Y, theta, alpha, iterations, lamb)"
   ]
  },
  {
   "cell_type": "code",
   "execution_count": 57,
   "id": "a87e2d05",
   "metadata": {},
   "outputs": [
    {
     "data": {
      "text/plain": [
       "Text(0.5, 1.0, 'Cost for X with Normalized Input')"
      ]
     },
     "execution_count": 57,
     "metadata": {},
     "output_type": "execute_result"
    },
    {
     "data": {
      "image/png": "[encoded data removed]",
      "text/plain": [
       "<Figure size 720x432 with 1 Axes>"
      ]
     },
     "metadata": {
      "needs_background": "light"
     },
     "output_type": "display_data"
    }
   ],
   "source": [
    "plt.plot(range(1, iterations + 1),cost_history_NormTrain, color='blue', label = \"Training Cost\")\n",
    "plt.plot(range(1, iterations + 1),cost_history_NormTest, color='orange', label = \"Evaluation Cost\")\n",
    "plt.rcParams[\"figure.figsize\"] = (10,6)\n",
    "plt.grid()\n",
    "plt.legend()\n",
    "plt.xlabel('Number of iterations')\n",
    "plt.ylabel('Cost (J)')\n",
    "plt.title('Cost for X with Normalized Input')"
   ]
  }
 ],
 "metadata": {
  "kernelspec": {
   "display_name": "Python 3",
   "language": "python",
   "name": "python3"
  },
  "language_info": {
   "codemirror_mode": {
    "name": "ipython",
    "version": 3
   },
   "file_extension": ".py",
   "mimetype": "text/x-python",
   "name": "python",
   "nbconvert_exporter": "python",
   "pygments_lexer": "ipython3",
   "version": "3.8.8"
  }
 },
 "nbformat": 4,
 "nbformat_minor": 5
}
